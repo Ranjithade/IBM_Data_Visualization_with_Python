{
  "nbformat": 4,
  "nbformat_minor": 0,
  "metadata": {
    "colab": {
      "provenance": []
    },
    "kernelspec": {
      "name": "python3",
      "display_name": "Python 3"
    },
    "language_info": {
      "name": "python"
    }
  },
  "cells": [
    {
      "cell_type": "code",
      "execution_count": 1,
      "metadata": {
        "colab": {
          "base_uri": "https://localhost:8080/",
          "height": 383
        },
        "id": "uJL7PJnpSscZ",
        "outputId": "ed0a5eec-44cb-4c39-f1b6-05cf723c0535"
      },
      "outputs": [
        {
          "output_type": "error",
          "ename": "ModuleNotFoundError",
          "evalue": "No module named 'dash'",
          "traceback": [
            "\u001b[0;31m---------------------------------------------------------------------------\u001b[0m",
            "\u001b[0;31mModuleNotFoundError\u001b[0m                       Traceback (most recent call last)",
            "\u001b[0;32m<ipython-input-1-4e0ab53dd297>\u001b[0m in \u001b[0;36m<cell line: 0>\u001b[0;34m()\u001b[0m\n\u001b[1;32m      1\u001b[0m \u001b[0;32mimport\u001b[0m \u001b[0mpandas\u001b[0m \u001b[0;32mas\u001b[0m \u001b[0mpd\u001b[0m\u001b[0;34m\u001b[0m\u001b[0;34m\u001b[0m\u001b[0m\n\u001b[0;32m----> 2\u001b[0;31m \u001b[0;32mimport\u001b[0m \u001b[0mdash\u001b[0m\u001b[0;34m\u001b[0m\u001b[0;34m\u001b[0m\u001b[0m\n\u001b[0m\u001b[1;32m      3\u001b[0m \u001b[0;32mfrom\u001b[0m \u001b[0mdash\u001b[0m \u001b[0;32mimport\u001b[0m \u001b[0mhtml\u001b[0m\u001b[0;34m,\u001b[0m \u001b[0mdcc\u001b[0m\u001b[0;34m\u001b[0m\u001b[0;34m\u001b[0m\u001b[0m\n\u001b[1;32m      4\u001b[0m \u001b[0;32mfrom\u001b[0m \u001b[0mdash\u001b[0m\u001b[0;34m.\u001b[0m\u001b[0mdependencies\u001b[0m \u001b[0;32mimport\u001b[0m \u001b[0mInput\u001b[0m\u001b[0;34m,\u001b[0m \u001b[0mOutput\u001b[0m\u001b[0;34m,\u001b[0m \u001b[0mState\u001b[0m\u001b[0;34m\u001b[0m\u001b[0;34m\u001b[0m\u001b[0m\n\u001b[1;32m      5\u001b[0m \u001b[0;32mimport\u001b[0m \u001b[0mplotly\u001b[0m\u001b[0;34m.\u001b[0m\u001b[0mgraph_objects\u001b[0m \u001b[0;32mas\u001b[0m \u001b[0mgo\u001b[0m\u001b[0;34m\u001b[0m\u001b[0;34m\u001b[0m\u001b[0m\n",
            "\u001b[0;31mModuleNotFoundError\u001b[0m: No module named 'dash'",
            "",
            "\u001b[0;31m---------------------------------------------------------------------------\u001b[0;32m\nNOTE: If your import is failing due to a missing package, you can\nmanually install dependencies using either !pip or !apt.\n\nTo view examples of installing some common dependencies, click the\n\"Open Examples\" button below.\n\u001b[0;31m---------------------------------------------------------------------------\u001b[0m\n"
          ],
          "errorDetails": {
            "actions": [
              {
                "action": "open_url",
                "actionText": "Open Examples",
                "url": "/notebooks/snippets/importing_libraries.ipynb"
              }
            ]
          }
        }
      ],
      "source": [
        "import pandas as pd\n",
        "import dash\n",
        "from dash import html, dcc\n",
        "from dash.dependencies import Input, Output, State\n",
        "import plotly.graph_objects as go\n",
        "import plotly.express as px\n",
        "from dash import no_update\n",
        "import datetime as dt\n",
        "#Create app\n",
        "app = dash.Dash(__name__)\n",
        "#Clear the layout and do not display exception till callback gets executed\n",
        "app.config.suppress_callback_exceptions = True\n",
        "# Read the wildfire data into pandas dataframe\n",
        "df =  pd.read_csv('https://cf-courses-data.s3.us.cloud-object-storage.appdomain.cloud/IBMDeveloperSkillsNetwork-DV0101EN-SkillsNetwork/Data%20Files/Historical_Wildfires.csv')\n",
        "#Extract year and month from the date column\n",
        "df['Month'] = pd.to_datetime(df['Date']).dt.month_name() #used for the names of the months\n",
        "df['Year'] = pd.to_datetime(df['Date']).dt.year\n",
        "#Layout Section of Dash\n",
        "#Task 1 Add the Title to the Dashboard\n",
        "app.layout = html.Div(children=[html.H1('Australia Wildfire Dashboard',\n",
        "                                style={'textAlign': 'center', 'color': '#503D36',\n",
        "                                'font-size': 26}),\n",
        "# TASK 2: Add the radio items and a dropdown right below the first inner division\n",
        "     #outer division starts\n",
        "     html.Div([\n",
        "                   # First inner divsion for  adding dropdown helper text for Selected Drive wheels\n",
        "                    html.Div([\n",
        "                            html.H2('Select Region:', style={'margin-right': '2em'}),\n",
        "\n",
        "                    #Radio items to select the region\n",
        "                    #dcc.RadioItems(['NSW','QL','SA','TA','VI','WA'], 'NSW', id='region',inline=True)]),\n",
        "                    dcc.RadioItems([{\"label\":\"New South Wales\",\"value\": \"NSW\"},\n",
        "                                    {\"label\":\"Northern Territory\",\"value\": \"NT\"},\n",
        "                                    {\"label\":\"Queensland\",\"value\": \"QL\"},\n",
        "                                    {\"label\":\"South Australia\",\"value\": \"SA\"},\n",
        "                                    {\"label\":\"Tasmania\",\"value\": \"TA\"},\n",
        "                                    {\"label\":\"Victoria\",\"value\": \"VI\"},\n",
        "                                    {\"label\":\"Western Australia\",\"value\": \"WA\"}],\"NSW\", id='region',inline=True)]),\n",
        "                    #Dropdown to select year\n",
        "                    html.Div([\n",
        "                            html.H2('Select Year:', style={'margin-right': '2em'}),\n",
        "                        dcc.Dropdown(df.Year.unique(), value = 2005,id='year')\n",
        "                    ]),\n",
        "#TASK 3: Add two empty divisions for output inside the next inner division.\n",
        "         #Second Inner division for adding 2 inner divisions for 2 output graphs\n",
        "                    html.Div([\n",
        "\n",
        "                        html.Div([ ], id='plot1'),\n",
        "                        html.Div([ ], id='plot2')\n",
        "                    ], style={'display': 'flex'}),\n",
        "\n",
        "    ])\n",
        "    #outer division ends\n",
        "\n",
        "])\n",
        "#layout ends\n",
        "#TASK 4: Add the Ouput and input components inside the app.callback decorator.\n",
        "#Place to add @app.callback Decorator\n",
        "@app.callback([Output(component_id='plot1', component_property='children'),\n",
        "               Output(component_id='plot2', component_property='children')],\n",
        "               [Input(component_id='region', component_property='value'),\n",
        "                Input(component_id='year', component_property='value')])\n",
        "#TASK 5: Add the callback function.\n",
        "#Place to define the callback function .\n",
        "def reg_year_display(input_region,input_year):\n",
        "    #data\n",
        "   region_data = df[df['Region'] == input_region]\n",
        "   y_r_data = region_data[region_data['Year']==input_year]\n",
        "    #Plot one - Monthly Average Estimated Fire Area\n",
        "   est_data = y_r_data.groupby('Month')['Estimated_fire_area'].mean().reset_index()\n",
        "   fig1 = px.pie(est_data, values='Estimated_fire_area', names='Month', title=\"{} : Monthly Average Estimated Fire Area in year {}\".format(input_region,input_year))\n",
        "     #Plot two - Monthly Average Count of Pixels for Presumed Vegetation Fires\n",
        "   veg_data = y_r_data.groupby('Month')['Count'].mean().reset_index()\n",
        "   fig2 = px.bar(veg_data, x='Month', y='Count', title='{} : Average Count of Pixels for Presumed Vegetation Fires in year {}'.format(input_region,input_year))\n",
        "   return [dcc.Graph(figure=fig1),\n",
        "            dcc.Graph(figure=fig2) ]\n",
        "if __name__ == '__main__':\n",
        "    app.run_server()"
      ]
    },
    {
      "cell_type": "code",
      "source": [
        "!pip install dash\n",
        "\n"
      ],
      "metadata": {
        "colab": {
          "base_uri": "https://localhost:8080/"
        },
        "id": "8mHFgXX6Uwl8",
        "outputId": "0e70614d-04d7-4ca6-fea9-cc576e24dbb5"
      },
      "execution_count": 3,
      "outputs": [
        {
          "output_type": "stream",
          "name": "stdout",
          "text": [
            "Collecting dash\n",
            "  Downloading dash-3.0.2-py3-none-any.whl.metadata (10 kB)\n",
            "Collecting Flask<3.1,>=1.0.4 (from dash)\n",
            "  Downloading flask-3.0.3-py3-none-any.whl.metadata (3.2 kB)\n",
            "Collecting Werkzeug<3.1 (from dash)\n",
            "  Downloading werkzeug-3.0.6-py3-none-any.whl.metadata (3.7 kB)\n",
            "Requirement already satisfied: plotly>=5.0.0 in /usr/local/lib/python3.11/dist-packages (from dash) (5.24.1)\n",
            "Requirement already satisfied: importlib-metadata in /usr/local/lib/python3.11/dist-packages (from dash) (8.6.1)\n",
            "Requirement already satisfied: typing-extensions>=4.1.1 in /usr/local/lib/python3.11/dist-packages (from dash) (4.13.1)\n",
            "Requirement already satisfied: requests in /usr/local/lib/python3.11/dist-packages (from dash) (2.32.3)\n",
            "Collecting retrying (from dash)\n",
            "  Downloading retrying-1.3.4-py3-none-any.whl.metadata (6.9 kB)\n",
            "Requirement already satisfied: nest-asyncio in /usr/local/lib/python3.11/dist-packages (from dash) (1.6.0)\n",
            "Requirement already satisfied: setuptools in /usr/local/lib/python3.11/dist-packages (from dash) (75.2.0)\n",
            "Requirement already satisfied: Jinja2>=3.1.2 in /usr/local/lib/python3.11/dist-packages (from Flask<3.1,>=1.0.4->dash) (3.1.6)\n",
            "Requirement already satisfied: itsdangerous>=2.1.2 in /usr/local/lib/python3.11/dist-packages (from Flask<3.1,>=1.0.4->dash) (2.2.0)\n",
            "Requirement already satisfied: click>=8.1.3 in /usr/local/lib/python3.11/dist-packages (from Flask<3.1,>=1.0.4->dash) (8.1.8)\n",
            "Requirement already satisfied: blinker>=1.6.2 in /usr/local/lib/python3.11/dist-packages (from Flask<3.1,>=1.0.4->dash) (1.9.0)\n",
            "Requirement already satisfied: tenacity>=6.2.0 in /usr/local/lib/python3.11/dist-packages (from plotly>=5.0.0->dash) (9.1.2)\n",
            "Requirement already satisfied: packaging in /usr/local/lib/python3.11/dist-packages (from plotly>=5.0.0->dash) (24.2)\n",
            "Requirement already satisfied: MarkupSafe>=2.1.1 in /usr/local/lib/python3.11/dist-packages (from Werkzeug<3.1->dash) (3.0.2)\n",
            "Requirement already satisfied: zipp>=3.20 in /usr/local/lib/python3.11/dist-packages (from importlib-metadata->dash) (3.21.0)\n",
            "Requirement already satisfied: charset-normalizer<4,>=2 in /usr/local/lib/python3.11/dist-packages (from requests->dash) (3.4.1)\n",
            "Requirement already satisfied: idna<4,>=2.5 in /usr/local/lib/python3.11/dist-packages (from requests->dash) (3.10)\n",
            "Requirement already satisfied: urllib3<3,>=1.21.1 in /usr/local/lib/python3.11/dist-packages (from requests->dash) (2.3.0)\n",
            "Requirement already satisfied: certifi>=2017.4.17 in /usr/local/lib/python3.11/dist-packages (from requests->dash) (2025.1.31)\n",
            "Requirement already satisfied: six>=1.7.0 in /usr/local/lib/python3.11/dist-packages (from retrying->dash) (1.17.0)\n",
            "Downloading dash-3.0.2-py3-none-any.whl (7.9 MB)\n",
            "\u001b[2K   \u001b[90m━━━━━━━━━━━━━━━━━━━━━━━━━━━━━━━━━━━━━━━━\u001b[0m \u001b[32m7.9/7.9 MB\u001b[0m \u001b[31m44.0 MB/s\u001b[0m eta \u001b[36m0:00:00\u001b[0m\n",
            "\u001b[?25hDownloading flask-3.0.3-py3-none-any.whl (101 kB)\n",
            "\u001b[2K   \u001b[90m━━━━━━━━━━━━━━━━━━━━━━━━━━━━━━━━━━━━━━━━\u001b[0m \u001b[32m101.7/101.7 kB\u001b[0m \u001b[31m6.9 MB/s\u001b[0m eta \u001b[36m0:00:00\u001b[0m\n",
            "\u001b[?25hDownloading werkzeug-3.0.6-py3-none-any.whl (227 kB)\n",
            "\u001b[2K   \u001b[90m━━━━━━━━━━━━━━━━━━━━━━━━━━━━━━━━━━━━━━━━\u001b[0m \u001b[32m228.0/228.0 kB\u001b[0m \u001b[31m13.7 MB/s\u001b[0m eta \u001b[36m0:00:00\u001b[0m\n",
            "\u001b[?25hDownloading retrying-1.3.4-py3-none-any.whl (11 kB)\n",
            "Installing collected packages: Werkzeug, retrying, Flask, dash\n",
            "  Attempting uninstall: Werkzeug\n",
            "    Found existing installation: Werkzeug 3.1.3\n",
            "    Uninstalling Werkzeug-3.1.3:\n",
            "      Successfully uninstalled Werkzeug-3.1.3\n",
            "  Attempting uninstall: Flask\n",
            "    Found existing installation: Flask 3.1.0\n",
            "    Uninstalling Flask-3.1.0:\n",
            "      Successfully uninstalled Flask-3.1.0\n",
            "Successfully installed Flask-3.0.3 Werkzeug-3.0.6 dash-3.0.2 retrying-1.3.4\n"
          ]
        }
      ]
    },
    {
      "cell_type": "code",
      "source": [
        "import pandas as pd\n",
        "import dash\n",
        "from dash import html, dcc\n",
        "from dash.dependencies import Input, Output, State\n",
        "import plotly.graph_objects as go\n",
        "import plotly.express as px\n",
        "from dash import no_update\n",
        "import datetime as dt\n",
        "#Create app\n",
        "app = dash.Dash(__name__)\n",
        "#Clear the layout and do not display exception till callback gets executed\n",
        "app.config.suppress_callback_exceptions = True\n",
        "# Read the wildfire data into pandas dataframe\n",
        "df =  pd.read_csv('https://cf-courses-data.s3.us.cloud-object-storage.appdomain.cloud/IBMDeveloperSkillsNetwork-DV0101EN-SkillsNetwork/Data%20Files/Historical_Wildfires.csv')\n",
        "#Extract year and month from the date column\n",
        "df['Month'] = pd.to_datetime(df['Date']).dt.month_name() #used for the names of the months\n",
        "df['Year'] = pd.to_datetime(df['Date']).dt.year\n",
        "#Layout Section of Dash\n",
        "#Task 1 Add the Title to the Dashboard\n",
        "app.layout = html.Div(children=[html.H1('Australia Wildfire Dashboard',\n",
        "                                style={'textAlign': 'center', 'color': '#503D36',\n",
        "                                'font-size': 26}),\n",
        "# TASK 2: Add the radio items and a dropdown right below the first inner division\n",
        "     #outer division starts\n",
        "     html.Div([\n",
        "                   # First inner divsion for  adding dropdown helper text for Selected Drive wheels\n",
        "                    html.Div([\n",
        "                            html.H2('Select Region:', style={'margin-right': '2em'}),\n",
        "\n",
        "                    #Radio items to select the region\n",
        "                    #dcc.RadioItems(['NSW','QL','SA','TA','VI','WA'], 'NSW', id='region',inline=True)]),\n",
        "                    dcc.RadioItems([{\"label\":\"New South Wales\",\"value\": \"NSW\"},\n",
        "                                    {\"label\":\"Northern Territory\",\"value\": \"NT\"},\n",
        "                                    {\"label\":\"Queensland\",\"value\": \"QL\"},\n",
        "                                    {\"label\":\"South Australia\",\"value\": \"SA\"},\n",
        "                                    {\"label\":\"Tasmania\",\"value\": \"TA\"},\n",
        "                                    {\"label\":\"Victoria\",\"value\": \"VI\"},\n",
        "                                    {\"label\":\"Western Australia\",\"value\": \"WA\"}],\"NSW\", id='region',inline=True)]),\n",
        "                    #Dropdown to select year\n",
        "                    html.Div([\n",
        "                            html.H2('Select Year:', style={'margin-right': '2em'}),\n",
        "                        dcc.Dropdown(df.Year.unique(), value = 2005,id='year')\n",
        "                    ]),\n",
        "#TASK 3: Add two empty divisions for output inside the next inner division.\n",
        "         #Second Inner division for adding 2 inner divisions for 2 output graphs\n",
        "                    html.Div([\n",
        "\n",
        "                        html.Div([ ], id='plot1'),\n",
        "                        html.Div([ ], id='plot2')\n",
        "                    ], style={'display': 'flex'}),\n",
        "\n",
        "    ])\n",
        "    #outer division ends\n",
        "\n",
        "])\n",
        "#layout ends\n",
        "#TASK 4: Add the Ouput and input components inside the app.callback decorator.\n",
        "#Place to add @app.callback Decorator\n",
        "@app.callback([Output(component_id='plot1', component_property='children'),\n",
        "               Output(component_id='plot2', component_property='children')],\n",
        "               [Input(component_id='region', component_property='value'),\n",
        "                Input(component_id='year', component_property='value')])\n",
        "#TASK 5: Add the callback function.\n",
        "#Place to define the callback function .\n",
        "def reg_year_display(input_region,input_year):\n",
        "    #data\n",
        "   region_data = df[df['Region'] == input_region]\n",
        "   y_r_data = region_data[region_data['Year']==input_year]\n",
        "    #Plot one - Monthly Average Estimated Fire Area\n",
        "   est_data = y_r_data.groupby('Month')['Estimated_fire_area'].mean().reset_index()\n",
        "   fig1 = px.pie(est_data, values='Estimated_fire_area', names='Month', title=\"{} : Monthly Average Estimated Fire Area in year {}\".format(input_region,input_year))\n",
        "     #Plot two - Monthly Average Count of Pixels for Presumed Vegetation Fires\n",
        "   veg_data = y_r_data.groupby('Month')['Count'].mean().reset_index()\n",
        "   fig2 = px.bar(veg_data, x='Month', y='Count', title='{} : Average Count of Pixels for Presumed Vegetation Fires in year {}'.format(input_region,input_year))\n",
        "   return [dcc.Graph(figure=fig1),\n",
        "            dcc.Graph(figure=fig2) ]\n",
        "if __name__ == '__main__':\n",
        "    app.run(debug=True)"
      ],
      "metadata": {
        "colab": {
          "base_uri": "https://localhost:8080/",
          "height": 671
        },
        "id": "ynJZGm5rUxrS",
        "outputId": "60343898-d45b-4f96-a72e-02bc516a8724"
      },
      "execution_count": 5,
      "outputs": [
        {
          "output_type": "display_data",
          "data": {
            "text/plain": [
              "<IPython.core.display.Javascript object>"
            ],
            "application/javascript": [
              "(async (port, path, width, height, cache, element) => {\n",
              "    if (!google.colab.kernel.accessAllowed && !cache) {\n",
              "      return;\n",
              "    }\n",
              "    element.appendChild(document.createTextNode(''));\n",
              "    const url = await google.colab.kernel.proxyPort(port, {cache});\n",
              "    const iframe = document.createElement('iframe');\n",
              "    iframe.src = new URL(path, url).toString();\n",
              "    iframe.height = height;\n",
              "    iframe.width = width;\n",
              "    iframe.style.border = 0;\n",
              "    iframe.allow = [\n",
              "        'accelerometer',\n",
              "        'autoplay',\n",
              "        'camera',\n",
              "        'clipboard-read',\n",
              "        'clipboard-write',\n",
              "        'gyroscope',\n",
              "        'magnetometer',\n",
              "        'microphone',\n",
              "        'serial',\n",
              "        'usb',\n",
              "        'xr-spatial-tracking',\n",
              "    ].join('; ');\n",
              "    element.appendChild(iframe);\n",
              "  })(8050, \"/\", \"100%\", 650, false, window.element)"
            ]
          },
          "metadata": {}
        }
      ]
    },
    {
      "cell_type": "code",
      "source": [],
      "metadata": {
        "id": "n5L5eRbYU9fl"
      },
      "execution_count": null,
      "outputs": []
    }
  ]
}